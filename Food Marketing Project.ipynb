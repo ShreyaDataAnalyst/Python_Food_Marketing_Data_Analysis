{
 "cells": [
  {
   "cell_type": "markdown",
   "id": "783fb7d4",
   "metadata": {},
   "source": [
    "# Food Marketing Data Analaysis"
   ]
  },
  {
   "cell_type": "markdown",
   "id": "c5e7c0d8",
   "metadata": {},
   "source": [
    "## Importing the data"
   ]
  },
  {
   "cell_type": "code",
   "execution_count": 4,
   "id": "5f0bd1f0",
   "metadata": {},
   "outputs": [
    {
     "data": {
      "text/html": [
       "<div>\n",
       "<style scoped>\n",
       "    .dataframe tbody tr th:only-of-type {\n",
       "        vertical-align: middle;\n",
       "    }\n",
       "\n",
       "    .dataframe tbody tr th {\n",
       "        vertical-align: top;\n",
       "    }\n",
       "\n",
       "    .dataframe thead th {\n",
       "        text-align: right;\n",
       "    }\n",
       "</style>\n",
       "<table border=\"1\" class=\"dataframe\">\n",
       "  <thead>\n",
       "    <tr style=\"text-align: right;\">\n",
       "      <th></th>\n",
       "      <th>Income</th>\n",
       "      <th>Kidhome</th>\n",
       "      <th>Teenhome</th>\n",
       "      <th>Recency</th>\n",
       "      <th>MntWines</th>\n",
       "      <th>MntFruits</th>\n",
       "      <th>MntMeatProducts</th>\n",
       "      <th>MntFishProducts</th>\n",
       "      <th>MntSweetProducts</th>\n",
       "      <th>MntGoldProds</th>\n",
       "      <th>...</th>\n",
       "      <th>marital_Together</th>\n",
       "      <th>marital_Widow</th>\n",
       "      <th>education_2n Cycle</th>\n",
       "      <th>education_Basic</th>\n",
       "      <th>education_Graduation</th>\n",
       "      <th>education_Master</th>\n",
       "      <th>education_PhD</th>\n",
       "      <th>MntTotal</th>\n",
       "      <th>MntRegularProds</th>\n",
       "      <th>AcceptedCmpOverall</th>\n",
       "    </tr>\n",
       "  </thead>\n",
       "  <tbody>\n",
       "    <tr>\n",
       "      <th>0</th>\n",
       "      <td>58138.0</td>\n",
       "      <td>0</td>\n",
       "      <td>0</td>\n",
       "      <td>58</td>\n",
       "      <td>635</td>\n",
       "      <td>88</td>\n",
       "      <td>546</td>\n",
       "      <td>172</td>\n",
       "      <td>88</td>\n",
       "      <td>88</td>\n",
       "      <td>...</td>\n",
       "      <td>0</td>\n",
       "      <td>0</td>\n",
       "      <td>0</td>\n",
       "      <td>0</td>\n",
       "      <td>1</td>\n",
       "      <td>0</td>\n",
       "      <td>0</td>\n",
       "      <td>1529</td>\n",
       "      <td>1441</td>\n",
       "      <td>0</td>\n",
       "    </tr>\n",
       "    <tr>\n",
       "      <th>1</th>\n",
       "      <td>46344.0</td>\n",
       "      <td>1</td>\n",
       "      <td>1</td>\n",
       "      <td>38</td>\n",
       "      <td>11</td>\n",
       "      <td>1</td>\n",
       "      <td>6</td>\n",
       "      <td>2</td>\n",
       "      <td>1</td>\n",
       "      <td>6</td>\n",
       "      <td>...</td>\n",
       "      <td>0</td>\n",
       "      <td>0</td>\n",
       "      <td>0</td>\n",
       "      <td>0</td>\n",
       "      <td>1</td>\n",
       "      <td>0</td>\n",
       "      <td>0</td>\n",
       "      <td>21</td>\n",
       "      <td>15</td>\n",
       "      <td>0</td>\n",
       "    </tr>\n",
       "    <tr>\n",
       "      <th>2</th>\n",
       "      <td>71613.0</td>\n",
       "      <td>0</td>\n",
       "      <td>0</td>\n",
       "      <td>26</td>\n",
       "      <td>426</td>\n",
       "      <td>49</td>\n",
       "      <td>127</td>\n",
       "      <td>111</td>\n",
       "      <td>21</td>\n",
       "      <td>42</td>\n",
       "      <td>...</td>\n",
       "      <td>1</td>\n",
       "      <td>0</td>\n",
       "      <td>0</td>\n",
       "      <td>0</td>\n",
       "      <td>1</td>\n",
       "      <td>0</td>\n",
       "      <td>0</td>\n",
       "      <td>734</td>\n",
       "      <td>692</td>\n",
       "      <td>0</td>\n",
       "    </tr>\n",
       "    <tr>\n",
       "      <th>3</th>\n",
       "      <td>26646.0</td>\n",
       "      <td>1</td>\n",
       "      <td>0</td>\n",
       "      <td>26</td>\n",
       "      <td>11</td>\n",
       "      <td>4</td>\n",
       "      <td>20</td>\n",
       "      <td>10</td>\n",
       "      <td>3</td>\n",
       "      <td>5</td>\n",
       "      <td>...</td>\n",
       "      <td>1</td>\n",
       "      <td>0</td>\n",
       "      <td>0</td>\n",
       "      <td>0</td>\n",
       "      <td>1</td>\n",
       "      <td>0</td>\n",
       "      <td>0</td>\n",
       "      <td>48</td>\n",
       "      <td>43</td>\n",
       "      <td>0</td>\n",
       "    </tr>\n",
       "    <tr>\n",
       "      <th>4</th>\n",
       "      <td>58293.0</td>\n",
       "      <td>1</td>\n",
       "      <td>0</td>\n",
       "      <td>94</td>\n",
       "      <td>173</td>\n",
       "      <td>43</td>\n",
       "      <td>118</td>\n",
       "      <td>46</td>\n",
       "      <td>27</td>\n",
       "      <td>15</td>\n",
       "      <td>...</td>\n",
       "      <td>0</td>\n",
       "      <td>0</td>\n",
       "      <td>0</td>\n",
       "      <td>0</td>\n",
       "      <td>0</td>\n",
       "      <td>0</td>\n",
       "      <td>1</td>\n",
       "      <td>407</td>\n",
       "      <td>392</td>\n",
       "      <td>0</td>\n",
       "    </tr>\n",
       "  </tbody>\n",
       "</table>\n",
       "<p>5 rows × 39 columns</p>\n",
       "</div>"
      ],
      "text/plain": [
       "    Income  Kidhome  Teenhome  Recency  MntWines  MntFruits  MntMeatProducts  \\\n",
       "0  58138.0        0         0       58       635         88              546   \n",
       "1  46344.0        1         1       38        11          1                6   \n",
       "2  71613.0        0         0       26       426         49              127   \n",
       "3  26646.0        1         0       26        11          4               20   \n",
       "4  58293.0        1         0       94       173         43              118   \n",
       "\n",
       "   MntFishProducts  MntSweetProducts  MntGoldProds  ...  marital_Together  \\\n",
       "0              172                88            88  ...                 0   \n",
       "1                2                 1             6  ...                 0   \n",
       "2              111                21            42  ...                 1   \n",
       "3               10                 3             5  ...                 1   \n",
       "4               46                27            15  ...                 0   \n",
       "\n",
       "   marital_Widow  education_2n Cycle  education_Basic  education_Graduation  \\\n",
       "0              0                   0                0                     1   \n",
       "1              0                   0                0                     1   \n",
       "2              0                   0                0                     1   \n",
       "3              0                   0                0                     1   \n",
       "4              0                   0                0                     0   \n",
       "\n",
       "   education_Master  education_PhD  MntTotal  MntRegularProds  \\\n",
       "0                 0              0      1529             1441   \n",
       "1                 0              0        21               15   \n",
       "2                 0              0       734              692   \n",
       "3                 0              0        48               43   \n",
       "4                 0              1       407              392   \n",
       "\n",
       "   AcceptedCmpOverall  \n",
       "0                   0  \n",
       "1                   0  \n",
       "2                   0  \n",
       "3                   0  \n",
       "4                   0  \n",
       "\n",
       "[5 rows x 39 columns]"
      ]
     },
     "execution_count": 4,
     "metadata": {},
     "output_type": "execute_result"
    }
   ],
   "source": [
    "import pandas as pd\n",
    "\n",
    "food=pd.read_csv(r'/Users/shreyaarora/Downloads/u_food_marketing (1).csv')\n",
    "                 \n",
    "food.head()"
   ]
  },
  {
   "cell_type": "code",
   "execution_count": 7,
   "id": "43cc31b5",
   "metadata": {},
   "outputs": [
    {
     "data": {
      "text/html": [
       "<div>\n",
       "<style scoped>\n",
       "    .dataframe tbody tr th:only-of-type {\n",
       "        vertical-align: middle;\n",
       "    }\n",
       "\n",
       "    .dataframe tbody tr th {\n",
       "        vertical-align: top;\n",
       "    }\n",
       "\n",
       "    .dataframe thead th {\n",
       "        text-align: right;\n",
       "    }\n",
       "</style>\n",
       "<table border=\"1\" class=\"dataframe\">\n",
       "  <thead>\n",
       "    <tr style=\"text-align: right;\">\n",
       "      <th></th>\n",
       "      <th>Income</th>\n",
       "      <th>Kidhome</th>\n",
       "      <th>Teenhome</th>\n",
       "      <th>Recency</th>\n",
       "      <th>MntWines</th>\n",
       "      <th>MntFruits</th>\n",
       "      <th>MntMeatProducts</th>\n",
       "      <th>MntFishProducts</th>\n",
       "      <th>MntSweetProducts</th>\n",
       "      <th>MntGoldProds</th>\n",
       "      <th>NumDealsPurchases</th>\n",
       "      <th>NumWebPurchases</th>\n",
       "      <th>NumCatalogPurchases</th>\n",
       "      <th>NumStorePurchases</th>\n",
       "      <th>NumWebVisitsMonth</th>\n",
       "      <th>AcceptedCmp3</th>\n",
       "      <th>AcceptedCmp4</th>\n",
       "      <th>AcceptedCmp5</th>\n",
       "      <th>AcceptedCmp1</th>\n",
       "      <th>AcceptedCmp2</th>\n",
       "      <th>Complain</th>\n",
       "      <th>Z_CostContact</th>\n",
       "      <th>Z_Revenue</th>\n",
       "      <th>Response</th>\n",
       "      <th>Age</th>\n",
       "      <th>Customer_Days</th>\n",
       "      <th>marital_Divorced</th>\n",
       "      <th>marital_Married</th>\n",
       "      <th>marital_Single</th>\n",
       "      <th>marital_Together</th>\n",
       "      <th>marital_Widow</th>\n",
       "      <th>education_2n Cycle</th>\n",
       "      <th>education_Basic</th>\n",
       "      <th>education_Graduation</th>\n",
       "      <th>education_Master</th>\n",
       "      <th>education_PhD</th>\n",
       "      <th>MntTotal</th>\n",
       "      <th>MntRegularProds</th>\n",
       "      <th>AcceptedCmpOverall</th>\n",
       "    </tr>\n",
       "  </thead>\n",
       "  <tbody>\n",
       "    <tr>\n",
       "      <th>0</th>\n",
       "      <td>58138.0</td>\n",
       "      <td>0</td>\n",
       "      <td>0</td>\n",
       "      <td>58</td>\n",
       "      <td>635</td>\n",
       "      <td>88</td>\n",
       "      <td>546</td>\n",
       "      <td>172</td>\n",
       "      <td>88</td>\n",
       "      <td>88</td>\n",
       "      <td>3</td>\n",
       "      <td>8</td>\n",
       "      <td>10</td>\n",
       "      <td>4</td>\n",
       "      <td>7</td>\n",
       "      <td>0</td>\n",
       "      <td>0</td>\n",
       "      <td>0</td>\n",
       "      <td>0</td>\n",
       "      <td>0</td>\n",
       "      <td>0</td>\n",
       "      <td>3</td>\n",
       "      <td>11</td>\n",
       "      <td>1</td>\n",
       "      <td>63</td>\n",
       "      <td>2822</td>\n",
       "      <td>0</td>\n",
       "      <td>0</td>\n",
       "      <td>1</td>\n",
       "      <td>0</td>\n",
       "      <td>0</td>\n",
       "      <td>0</td>\n",
       "      <td>0</td>\n",
       "      <td>1</td>\n",
       "      <td>0</td>\n",
       "      <td>0</td>\n",
       "      <td>1529</td>\n",
       "      <td>1441</td>\n",
       "      <td>0</td>\n",
       "    </tr>\n",
       "    <tr>\n",
       "      <th>1</th>\n",
       "      <td>46344.0</td>\n",
       "      <td>1</td>\n",
       "      <td>1</td>\n",
       "      <td>38</td>\n",
       "      <td>11</td>\n",
       "      <td>1</td>\n",
       "      <td>6</td>\n",
       "      <td>2</td>\n",
       "      <td>1</td>\n",
       "      <td>6</td>\n",
       "      <td>2</td>\n",
       "      <td>1</td>\n",
       "      <td>1</td>\n",
       "      <td>2</td>\n",
       "      <td>5</td>\n",
       "      <td>0</td>\n",
       "      <td>0</td>\n",
       "      <td>0</td>\n",
       "      <td>0</td>\n",
       "      <td>0</td>\n",
       "      <td>0</td>\n",
       "      <td>3</td>\n",
       "      <td>11</td>\n",
       "      <td>0</td>\n",
       "      <td>66</td>\n",
       "      <td>2272</td>\n",
       "      <td>0</td>\n",
       "      <td>0</td>\n",
       "      <td>1</td>\n",
       "      <td>0</td>\n",
       "      <td>0</td>\n",
       "      <td>0</td>\n",
       "      <td>0</td>\n",
       "      <td>1</td>\n",
       "      <td>0</td>\n",
       "      <td>0</td>\n",
       "      <td>21</td>\n",
       "      <td>15</td>\n",
       "      <td>0</td>\n",
       "    </tr>\n",
       "    <tr>\n",
       "      <th>2</th>\n",
       "      <td>71613.0</td>\n",
       "      <td>0</td>\n",
       "      <td>0</td>\n",
       "      <td>26</td>\n",
       "      <td>426</td>\n",
       "      <td>49</td>\n",
       "      <td>127</td>\n",
       "      <td>111</td>\n",
       "      <td>21</td>\n",
       "      <td>42</td>\n",
       "      <td>1</td>\n",
       "      <td>8</td>\n",
       "      <td>2</td>\n",
       "      <td>10</td>\n",
       "      <td>4</td>\n",
       "      <td>0</td>\n",
       "      <td>0</td>\n",
       "      <td>0</td>\n",
       "      <td>0</td>\n",
       "      <td>0</td>\n",
       "      <td>0</td>\n",
       "      <td>3</td>\n",
       "      <td>11</td>\n",
       "      <td>0</td>\n",
       "      <td>55</td>\n",
       "      <td>2471</td>\n",
       "      <td>0</td>\n",
       "      <td>0</td>\n",
       "      <td>0</td>\n",
       "      <td>1</td>\n",
       "      <td>0</td>\n",
       "      <td>0</td>\n",
       "      <td>0</td>\n",
       "      <td>1</td>\n",
       "      <td>0</td>\n",
       "      <td>0</td>\n",
       "      <td>734</td>\n",
       "      <td>692</td>\n",
       "      <td>0</td>\n",
       "    </tr>\n",
       "    <tr>\n",
       "      <th>3</th>\n",
       "      <td>26646.0</td>\n",
       "      <td>1</td>\n",
       "      <td>0</td>\n",
       "      <td>26</td>\n",
       "      <td>11</td>\n",
       "      <td>4</td>\n",
       "      <td>20</td>\n",
       "      <td>10</td>\n",
       "      <td>3</td>\n",
       "      <td>5</td>\n",
       "      <td>2</td>\n",
       "      <td>2</td>\n",
       "      <td>0</td>\n",
       "      <td>4</td>\n",
       "      <td>6</td>\n",
       "      <td>0</td>\n",
       "      <td>0</td>\n",
       "      <td>0</td>\n",
       "      <td>0</td>\n",
       "      <td>0</td>\n",
       "      <td>0</td>\n",
       "      <td>3</td>\n",
       "      <td>11</td>\n",
       "      <td>0</td>\n",
       "      <td>36</td>\n",
       "      <td>2298</td>\n",
       "      <td>0</td>\n",
       "      <td>0</td>\n",
       "      <td>0</td>\n",
       "      <td>1</td>\n",
       "      <td>0</td>\n",
       "      <td>0</td>\n",
       "      <td>0</td>\n",
       "      <td>1</td>\n",
       "      <td>0</td>\n",
       "      <td>0</td>\n",
       "      <td>48</td>\n",
       "      <td>43</td>\n",
       "      <td>0</td>\n",
       "    </tr>\n",
       "    <tr>\n",
       "      <th>4</th>\n",
       "      <td>58293.0</td>\n",
       "      <td>1</td>\n",
       "      <td>0</td>\n",
       "      <td>94</td>\n",
       "      <td>173</td>\n",
       "      <td>43</td>\n",
       "      <td>118</td>\n",
       "      <td>46</td>\n",
       "      <td>27</td>\n",
       "      <td>15</td>\n",
       "      <td>5</td>\n",
       "      <td>5</td>\n",
       "      <td>3</td>\n",
       "      <td>6</td>\n",
       "      <td>5</td>\n",
       "      <td>0</td>\n",
       "      <td>0</td>\n",
       "      <td>0</td>\n",
       "      <td>0</td>\n",
       "      <td>0</td>\n",
       "      <td>0</td>\n",
       "      <td>3</td>\n",
       "      <td>11</td>\n",
       "      <td>0</td>\n",
       "      <td>39</td>\n",
       "      <td>2320</td>\n",
       "      <td>0</td>\n",
       "      <td>1</td>\n",
       "      <td>0</td>\n",
       "      <td>0</td>\n",
       "      <td>0</td>\n",
       "      <td>0</td>\n",
       "      <td>0</td>\n",
       "      <td>0</td>\n",
       "      <td>0</td>\n",
       "      <td>1</td>\n",
       "      <td>407</td>\n",
       "      <td>392</td>\n",
       "      <td>0</td>\n",
       "    </tr>\n",
       "  </tbody>\n",
       "</table>\n",
       "</div>"
      ],
      "text/plain": [
       "    Income  Kidhome  Teenhome  Recency  MntWines  MntFruits  MntMeatProducts  \\\n",
       "0  58138.0        0         0       58       635         88              546   \n",
       "1  46344.0        1         1       38        11          1                6   \n",
       "2  71613.0        0         0       26       426         49              127   \n",
       "3  26646.0        1         0       26        11          4               20   \n",
       "4  58293.0        1         0       94       173         43              118   \n",
       "\n",
       "   MntFishProducts  MntSweetProducts  MntGoldProds  NumDealsPurchases  \\\n",
       "0              172                88            88                  3   \n",
       "1                2                 1             6                  2   \n",
       "2              111                21            42                  1   \n",
       "3               10                 3             5                  2   \n",
       "4               46                27            15                  5   \n",
       "\n",
       "   NumWebPurchases  NumCatalogPurchases  NumStorePurchases  NumWebVisitsMonth  \\\n",
       "0                8                   10                  4                  7   \n",
       "1                1                    1                  2                  5   \n",
       "2                8                    2                 10                  4   \n",
       "3                2                    0                  4                  6   \n",
       "4                5                    3                  6                  5   \n",
       "\n",
       "   AcceptedCmp3  AcceptedCmp4  AcceptedCmp5  AcceptedCmp1  AcceptedCmp2  \\\n",
       "0             0             0             0             0             0   \n",
       "1             0             0             0             0             0   \n",
       "2             0             0             0             0             0   \n",
       "3             0             0             0             0             0   \n",
       "4             0             0             0             0             0   \n",
       "\n",
       "   Complain  Z_CostContact  Z_Revenue  Response  Age  Customer_Days  \\\n",
       "0         0              3         11         1   63           2822   \n",
       "1         0              3         11         0   66           2272   \n",
       "2         0              3         11         0   55           2471   \n",
       "3         0              3         11         0   36           2298   \n",
       "4         0              3         11         0   39           2320   \n",
       "\n",
       "   marital_Divorced  marital_Married  marital_Single  marital_Together  \\\n",
       "0                 0                0               1                 0   \n",
       "1                 0                0               1                 0   \n",
       "2                 0                0               0                 1   \n",
       "3                 0                0               0                 1   \n",
       "4                 0                1               0                 0   \n",
       "\n",
       "   marital_Widow  education_2n Cycle  education_Basic  education_Graduation  \\\n",
       "0              0                   0                0                     1   \n",
       "1              0                   0                0                     1   \n",
       "2              0                   0                0                     1   \n",
       "3              0                   0                0                     1   \n",
       "4              0                   0                0                     0   \n",
       "\n",
       "   education_Master  education_PhD  MntTotal  MntRegularProds  \\\n",
       "0                 0              0      1529             1441   \n",
       "1                 0              0        21               15   \n",
       "2                 0              0       734              692   \n",
       "3                 0              0        48               43   \n",
       "4                 0              1       407              392   \n",
       "\n",
       "   AcceptedCmpOverall  \n",
       "0                   0  \n",
       "1                   0  \n",
       "2                   0  \n",
       "3                   0  \n",
       "4                   0  "
      ]
     },
     "execution_count": 7,
     "metadata": {},
     "output_type": "execute_result"
    }
   ],
   "source": [
    "pd.set_option('display.max.rows',2300)\n",
    "pd.set_option('display.max.columns',60)\n",
    "\n",
    "food.head()"
   ]
  },
  {
   "cell_type": "markdown",
   "id": "419ae627",
   "metadata": {},
   "source": [
    "## Data Cleaning"
   ]
  },
  {
   "cell_type": "code",
   "execution_count": 6,
   "id": "4feda049",
   "metadata": {},
   "outputs": [
    {
     "data": {
      "text/plain": [
       "Income                  184\n",
       "Kidhome                 184\n",
       "Teenhome                184\n",
       "Recency                 184\n",
       "MntWines                184\n",
       "MntFruits               184\n",
       "MntMeatProducts         184\n",
       "MntFishProducts         184\n",
       "MntSweetProducts        184\n",
       "MntGoldProds            184\n",
       "NumDealsPurchases       184\n",
       "NumWebPurchases         184\n",
       "NumCatalogPurchases     184\n",
       "NumStorePurchases       184\n",
       "NumWebVisitsMonth       184\n",
       "AcceptedCmp3            184\n",
       "AcceptedCmp4            184\n",
       "AcceptedCmp5            184\n",
       "AcceptedCmp1            184\n",
       "AcceptedCmp2            184\n",
       "Complain                184\n",
       "Z_CostContact           184\n",
       "Z_Revenue               184\n",
       "Response                184\n",
       "Age                     184\n",
       "Customer_Days           184\n",
       "marital_Divorced        184\n",
       "marital_Married         184\n",
       "marital_Single          184\n",
       "marital_Together        184\n",
       "marital_Widow           184\n",
       "education_2n Cycle      184\n",
       "education_Basic         184\n",
       "education_Graduation    184\n",
       "education_Master        184\n",
       "education_PhD           184\n",
       "MntTotal                184\n",
       "MntRegularProds         184\n",
       "AcceptedCmpOverall      184\n",
       "dtype: int64"
      ]
     },
     "execution_count": 6,
     "metadata": {},
     "output_type": "execute_result"
    }
   ],
   "source": [
    "#showing count of duplicate data\n",
    "\n",
    "food[food.duplicated()].count() "
   ]
  },
  {
   "cell_type": "code",
   "execution_count": null,
   "id": "28801a5d",
   "metadata": {},
   "outputs": [],
   "source": [
    "#deleting duplicates:\n",
    "\n",
    "food.drop_duplicates(keep=False, inplace=True)"
   ]
  },
  {
   "cell_type": "code",
   "execution_count": 7,
   "id": "a0826263",
   "metadata": {},
   "outputs": [
    {
     "data": {
      "text/html": [
       "<div>\n",
       "<style scoped>\n",
       "    .dataframe tbody tr th:only-of-type {\n",
       "        vertical-align: middle;\n",
       "    }\n",
       "\n",
       "    .dataframe tbody tr th {\n",
       "        vertical-align: top;\n",
       "    }\n",
       "\n",
       "    .dataframe thead th {\n",
       "        text-align: right;\n",
       "    }\n",
       "</style>\n",
       "<table border=\"1\" class=\"dataframe\">\n",
       "  <thead>\n",
       "    <tr style=\"text-align: right;\">\n",
       "      <th></th>\n",
       "      <th>Income</th>\n",
       "      <th>Kidhome</th>\n",
       "      <th>Teenhome</th>\n",
       "      <th>Recency</th>\n",
       "      <th>MntWines</th>\n",
       "      <th>MntFruits</th>\n",
       "      <th>MntMeatProducts</th>\n",
       "      <th>MntFishProducts</th>\n",
       "      <th>MntSweetProducts</th>\n",
       "      <th>MntGoldProds</th>\n",
       "      <th>NumDealsPurchases</th>\n",
       "      <th>NumWebPurchases</th>\n",
       "      <th>NumCatalogPurchases</th>\n",
       "      <th>NumStorePurchases</th>\n",
       "      <th>NumWebVisitsMonth</th>\n",
       "      <th>AcceptedCmp3</th>\n",
       "      <th>AcceptedCmp4</th>\n",
       "      <th>AcceptedCmp5</th>\n",
       "      <th>AcceptedCmp1</th>\n",
       "      <th>AcceptedCmp2</th>\n",
       "      <th>Complain</th>\n",
       "      <th>Z_CostContact</th>\n",
       "      <th>Z_Revenue</th>\n",
       "      <th>Response</th>\n",
       "      <th>Age</th>\n",
       "      <th>Customer_Days</th>\n",
       "      <th>marital_Divorced</th>\n",
       "      <th>marital_Married</th>\n",
       "      <th>marital_Single</th>\n",
       "      <th>marital_Together</th>\n",
       "      <th>marital_Widow</th>\n",
       "      <th>education_2n Cycle</th>\n",
       "      <th>education_Basic</th>\n",
       "      <th>education_Graduation</th>\n",
       "      <th>education_Master</th>\n",
       "      <th>education_PhD</th>\n",
       "      <th>MntTotal</th>\n",
       "      <th>MntRegularProds</th>\n",
       "      <th>AcceptedCmpOverall</th>\n",
       "      <th>Total Childern</th>\n",
       "    </tr>\n",
       "  </thead>\n",
       "  <tbody>\n",
       "    <tr>\n",
       "      <th>0</th>\n",
       "      <td>58138.0</td>\n",
       "      <td>0</td>\n",
       "      <td>0</td>\n",
       "      <td>58</td>\n",
       "      <td>635</td>\n",
       "      <td>88</td>\n",
       "      <td>546</td>\n",
       "      <td>172</td>\n",
       "      <td>88</td>\n",
       "      <td>88</td>\n",
       "      <td>3</td>\n",
       "      <td>8</td>\n",
       "      <td>10</td>\n",
       "      <td>4</td>\n",
       "      <td>7</td>\n",
       "      <td>0</td>\n",
       "      <td>0</td>\n",
       "      <td>0</td>\n",
       "      <td>0</td>\n",
       "      <td>0</td>\n",
       "      <td>0</td>\n",
       "      <td>3</td>\n",
       "      <td>11</td>\n",
       "      <td>1</td>\n",
       "      <td>63</td>\n",
       "      <td>2822</td>\n",
       "      <td>0</td>\n",
       "      <td>0</td>\n",
       "      <td>3</td>\n",
       "      <td>0</td>\n",
       "      <td>0</td>\n",
       "      <td>0</td>\n",
       "      <td>0</td>\n",
       "      <td>1</td>\n",
       "      <td>0</td>\n",
       "      <td>0</td>\n",
       "      <td>1529</td>\n",
       "      <td>1441</td>\n",
       "      <td>0</td>\n",
       "      <td>0</td>\n",
       "    </tr>\n",
       "    <tr>\n",
       "      <th>1</th>\n",
       "      <td>46344.0</td>\n",
       "      <td>1</td>\n",
       "      <td>1</td>\n",
       "      <td>38</td>\n",
       "      <td>11</td>\n",
       "      <td>1</td>\n",
       "      <td>6</td>\n",
       "      <td>2</td>\n",
       "      <td>1</td>\n",
       "      <td>6</td>\n",
       "      <td>2</td>\n",
       "      <td>1</td>\n",
       "      <td>1</td>\n",
       "      <td>2</td>\n",
       "      <td>5</td>\n",
       "      <td>0</td>\n",
       "      <td>0</td>\n",
       "      <td>0</td>\n",
       "      <td>0</td>\n",
       "      <td>0</td>\n",
       "      <td>0</td>\n",
       "      <td>3</td>\n",
       "      <td>11</td>\n",
       "      <td>0</td>\n",
       "      <td>66</td>\n",
       "      <td>2272</td>\n",
       "      <td>0</td>\n",
       "      <td>0</td>\n",
       "      <td>3</td>\n",
       "      <td>0</td>\n",
       "      <td>0</td>\n",
       "      <td>0</td>\n",
       "      <td>0</td>\n",
       "      <td>1</td>\n",
       "      <td>0</td>\n",
       "      <td>0</td>\n",
       "      <td>21</td>\n",
       "      <td>15</td>\n",
       "      <td>0</td>\n",
       "      <td>2</td>\n",
       "    </tr>\n",
       "    <tr>\n",
       "      <th>2</th>\n",
       "      <td>71613.0</td>\n",
       "      <td>0</td>\n",
       "      <td>0</td>\n",
       "      <td>26</td>\n",
       "      <td>426</td>\n",
       "      <td>49</td>\n",
       "      <td>127</td>\n",
       "      <td>111</td>\n",
       "      <td>21</td>\n",
       "      <td>42</td>\n",
       "      <td>1</td>\n",
       "      <td>8</td>\n",
       "      <td>2</td>\n",
       "      <td>10</td>\n",
       "      <td>4</td>\n",
       "      <td>0</td>\n",
       "      <td>0</td>\n",
       "      <td>0</td>\n",
       "      <td>0</td>\n",
       "      <td>0</td>\n",
       "      <td>0</td>\n",
       "      <td>3</td>\n",
       "      <td>11</td>\n",
       "      <td>0</td>\n",
       "      <td>55</td>\n",
       "      <td>2471</td>\n",
       "      <td>0</td>\n",
       "      <td>0</td>\n",
       "      <td>0</td>\n",
       "      <td>2</td>\n",
       "      <td>0</td>\n",
       "      <td>0</td>\n",
       "      <td>0</td>\n",
       "      <td>1</td>\n",
       "      <td>0</td>\n",
       "      <td>0</td>\n",
       "      <td>734</td>\n",
       "      <td>692</td>\n",
       "      <td>0</td>\n",
       "      <td>0</td>\n",
       "    </tr>\n",
       "    <tr>\n",
       "      <th>3</th>\n",
       "      <td>26646.0</td>\n",
       "      <td>1</td>\n",
       "      <td>0</td>\n",
       "      <td>26</td>\n",
       "      <td>11</td>\n",
       "      <td>4</td>\n",
       "      <td>20</td>\n",
       "      <td>10</td>\n",
       "      <td>3</td>\n",
       "      <td>5</td>\n",
       "      <td>2</td>\n",
       "      <td>2</td>\n",
       "      <td>0</td>\n",
       "      <td>4</td>\n",
       "      <td>6</td>\n",
       "      <td>0</td>\n",
       "      <td>0</td>\n",
       "      <td>0</td>\n",
       "      <td>0</td>\n",
       "      <td>0</td>\n",
       "      <td>0</td>\n",
       "      <td>3</td>\n",
       "      <td>11</td>\n",
       "      <td>0</td>\n",
       "      <td>36</td>\n",
       "      <td>2298</td>\n",
       "      <td>0</td>\n",
       "      <td>0</td>\n",
       "      <td>0</td>\n",
       "      <td>2</td>\n",
       "      <td>0</td>\n",
       "      <td>0</td>\n",
       "      <td>0</td>\n",
       "      <td>1</td>\n",
       "      <td>0</td>\n",
       "      <td>0</td>\n",
       "      <td>48</td>\n",
       "      <td>43</td>\n",
       "      <td>0</td>\n",
       "      <td>1</td>\n",
       "    </tr>\n",
       "    <tr>\n",
       "      <th>4</th>\n",
       "      <td>58293.0</td>\n",
       "      <td>1</td>\n",
       "      <td>0</td>\n",
       "      <td>94</td>\n",
       "      <td>173</td>\n",
       "      <td>43</td>\n",
       "      <td>118</td>\n",
       "      <td>46</td>\n",
       "      <td>27</td>\n",
       "      <td>15</td>\n",
       "      <td>5</td>\n",
       "      <td>5</td>\n",
       "      <td>3</td>\n",
       "      <td>6</td>\n",
       "      <td>5</td>\n",
       "      <td>0</td>\n",
       "      <td>0</td>\n",
       "      <td>0</td>\n",
       "      <td>0</td>\n",
       "      <td>0</td>\n",
       "      <td>0</td>\n",
       "      <td>3</td>\n",
       "      <td>11</td>\n",
       "      <td>0</td>\n",
       "      <td>39</td>\n",
       "      <td>2320</td>\n",
       "      <td>0</td>\n",
       "      <td>4</td>\n",
       "      <td>0</td>\n",
       "      <td>0</td>\n",
       "      <td>0</td>\n",
       "      <td>0</td>\n",
       "      <td>0</td>\n",
       "      <td>0</td>\n",
       "      <td>0</td>\n",
       "      <td>1</td>\n",
       "      <td>407</td>\n",
       "      <td>392</td>\n",
       "      <td>0</td>\n",
       "      <td>1</td>\n",
       "    </tr>\n",
       "  </tbody>\n",
       "</table>\n",
       "</div>"
      ],
      "text/plain": [
       "    Income  Kidhome  Teenhome  Recency  MntWines  MntFruits  MntMeatProducts  \\\n",
       "0  58138.0        0         0       58       635         88              546   \n",
       "1  46344.0        1         1       38        11          1                6   \n",
       "2  71613.0        0         0       26       426         49              127   \n",
       "3  26646.0        1         0       26        11          4               20   \n",
       "4  58293.0        1         0       94       173         43              118   \n",
       "\n",
       "   MntFishProducts  MntSweetProducts  MntGoldProds  NumDealsPurchases  \\\n",
       "0              172                88            88                  3   \n",
       "1                2                 1             6                  2   \n",
       "2              111                21            42                  1   \n",
       "3               10                 3             5                  2   \n",
       "4               46                27            15                  5   \n",
       "\n",
       "   NumWebPurchases  NumCatalogPurchases  NumStorePurchases  NumWebVisitsMonth  \\\n",
       "0                8                   10                  4                  7   \n",
       "1                1                    1                  2                  5   \n",
       "2                8                    2                 10                  4   \n",
       "3                2                    0                  4                  6   \n",
       "4                5                    3                  6                  5   \n",
       "\n",
       "   AcceptedCmp3  AcceptedCmp4  AcceptedCmp5  AcceptedCmp1  AcceptedCmp2  \\\n",
       "0             0             0             0             0             0   \n",
       "1             0             0             0             0             0   \n",
       "2             0             0             0             0             0   \n",
       "3             0             0             0             0             0   \n",
       "4             0             0             0             0             0   \n",
       "\n",
       "   Complain  Z_CostContact  Z_Revenue  Response  Age  Customer_Days  \\\n",
       "0         0              3         11         1   63           2822   \n",
       "1         0              3         11         0   66           2272   \n",
       "2         0              3         11         0   55           2471   \n",
       "3         0              3         11         0   36           2298   \n",
       "4         0              3         11         0   39           2320   \n",
       "\n",
       "   marital_Divorced  marital_Married  marital_Single  marital_Together  \\\n",
       "0                 0                0               3                 0   \n",
       "1                 0                0               3                 0   \n",
       "2                 0                0               0                 2   \n",
       "3                 0                0               0                 2   \n",
       "4                 0                4               0                 0   \n",
       "\n",
       "   marital_Widow  education_2n Cycle  education_Basic  education_Graduation  \\\n",
       "0              0                   0                0                     1   \n",
       "1              0                   0                0                     1   \n",
       "2              0                   0                0                     1   \n",
       "3              0                   0                0                     1   \n",
       "4              0                   0                0                     0   \n",
       "\n",
       "   education_Master  education_PhD  MntTotal  MntRegularProds  \\\n",
       "0                 0              0      1529             1441   \n",
       "1                 0              0        21               15   \n",
       "2                 0              0       734              692   \n",
       "3                 0              0        48               43   \n",
       "4                 0              1       407              392   \n",
       "\n",
       "   AcceptedCmpOverall  Total Childern  \n",
       "0                   0               0  \n",
       "1                   0               2  \n",
       "2                   0               0  \n",
       "3                   0               1  \n",
       "4                   0               1  "
      ]
     },
     "execution_count": 7,
     "metadata": {},
     "output_type": "execute_result"
    }
   ],
   "source": [
    "#joining tables :\n",
    "\n",
    "food['Total Childern']=food[['Kidhome','Teenhome']].sum(axis=1)\n",
    "\n",
    "food.head()"
   ]
  },
  {
   "cell_type": "code",
   "execution_count": 172,
   "id": "4e40458a",
   "metadata": {},
   "outputs": [],
   "source": [
    "#numbering the marital status\n",
    "\n",
    "food['marital_Divorced']=food['marital_Divorced'].replace({1:5,0:0})#if there is one which means divorced then change it to 5\n",
    "food['marital_Married']=food['marital_Married'].replace({1:4,0:0})\n",
    "food['marital_Single']=food['marital_Single'].replace({1:3,0:0})\n",
    "food['marital_Together']=food['marital_Together'].replace({1:2,0:0})\n",
    "food['marital_Widow']=food['marital_Widow'].replace({1:1,0:0})"
   ]
  },
  {
   "cell_type": "code",
   "execution_count": 178,
   "id": "fb74220d",
   "metadata": {},
   "outputs": [],
   "source": [
    "#changing int to string of marital status\n",
    "food['Marital_Status']=food[['marital_Divorced','marital_Married','marital_Single','marital_Together','marital_Widow']].sum(axis=1)"
   ]
  },
  {
   "cell_type": "code",
   "execution_count": 179,
   "id": "e84aaba1",
   "metadata": {},
   "outputs": [],
   "source": [
    "food['Marital_Status_str']=food['Marital_Status'].map({5:'Divorced',4:'Married',3:'Single',2:'Together',1:'Widow'})"
   ]
  },
  {
   "cell_type": "code",
   "execution_count": 180,
   "id": "5a70333d",
   "metadata": {},
   "outputs": [],
   "source": [
    "#numbering the education level\n",
    "\n",
    "\n",
    "food['education_2n Cycle']=food['education_2n Cycle'].replace({1:1,0:0})#if there is one which means divorced then change it to 5\n",
    "food['education_Basic']=food['education_Basic'].replace({1:2,0:0})\n",
    "food['education_Graduation']=food['education_Graduation'].replace({1:3,0:0})\n",
    "food['education_Master']=food['education_Master'].replace({1:4,0:0})\n",
    "food['education_PhD']=food['education_PhD'].replace({1:5,0:0})"
   ]
  },
  {
   "cell_type": "code",
   "execution_count": 181,
   "id": "dfd59001",
   "metadata": {},
   "outputs": [],
   "source": [
    "#changing int to string of education status\n",
    "food['Education_Status']=food[['education_2n Cycle','education_Basic','education_Graduation','education_Master','education_PhD']].sum(axis=1)"
   ]
  },
  {
   "cell_type": "code",
   "execution_count": 183,
   "id": "ed965b0a",
   "metadata": {},
   "outputs": [],
   "source": [
    "## putting different campgin acceptance all as 1 so we will know if the people has accepted more than once\n",
    "\n",
    "food['Accepted_Camapigns']=food[['AcceptedCmp3','AcceptedCmp4','AcceptedCmp5','AcceptedCmp1','AcceptedCmp2','Response']].sum(axis=1)"
   ]
  },
  {
   "cell_type": "code",
   "execution_count": 184,
   "id": "e49079f4",
   "metadata": {},
   "outputs": [],
   "source": [
    "food['Accepted_Camapigns']=(food['Accepted_Camapigns']!=0).astype(int)"
   ]
  },
  {
   "cell_type": "code",
   "execution_count": 185,
   "id": "8892ed1d",
   "metadata": {},
   "outputs": [
    {
     "data": {
      "text/plain": [
       "Accepted_Camapigns      1.000000\n",
       "AcceptedCmpOverall      0.716343\n",
       "Response                0.686667\n",
       "AcceptedCmp4            0.461506\n",
       "AcceptedCmp3            0.459984\n",
       "AcceptedCmp5            0.456930\n",
       "AcceptedCmp1            0.427141\n",
       "MntWines                0.420524\n",
       "MntTotal                0.398858\n",
       "MntRegularProds         0.396973\n",
       "NumCatalogPurchases     0.326084\n",
       "MntMeatProducts         0.306944\n",
       "Income                  0.299464\n",
       "NumWebPurchases         0.218926\n",
       "AcceptedCmp2            0.191209\n",
       "MntGoldProds            0.190478\n",
       "MntSweetProducts        0.162932\n",
       "MntFishProducts         0.158646\n",
       "NumStorePurchases       0.147642\n",
       "MntFruits               0.139401\n",
       "Customer_Days           0.084786\n",
       "Education_Status        0.071429\n",
       "education_PhD           0.065778\n",
       "marital_Single          0.047763\n",
       "Age                     0.031907\n",
       "marital_Widow           0.028886\n",
       "marital_Divorced        0.019954\n",
       "education_Master       -0.001939\n",
       "Marital_Status         -0.003553\n",
       "education_Graduation   -0.018054\n",
       "Complain               -0.026585\n",
       "marital_Together       -0.029273\n",
       "NumDealsPurchases      -0.031437\n",
       "education_2n Cycle     -0.032855\n",
       "marital_Married        -0.037430\n",
       "education_Basic        -0.051265\n",
       "NumWebVisitsMonth      -0.071444\n",
       "Recency                -0.102181\n",
       "Teenhome               -0.128871\n",
       "Kidhome                -0.166784\n",
       "Total Childern         -0.213205\n",
       "Z_CostContact                NaN\n",
       "Z_Revenue                    NaN\n",
       "Name: Accepted_Camapigns, dtype: float64"
      ]
     },
     "execution_count": 185,
     "metadata": {},
     "output_type": "execute_result"
    }
   ],
   "source": [
    "food.corr(method='pearson')['Accepted_Camapigns'].sort_values(ascending=False)"
   ]
  },
  {
   "cell_type": "code",
   "execution_count": 186,
   "id": "b9bade26",
   "metadata": {},
   "outputs": [
    {
     "data": {
      "text/html": [
       "<div>\n",
       "<style scoped>\n",
       "    .dataframe tbody tr th:only-of-type {\n",
       "        vertical-align: middle;\n",
       "    }\n",
       "\n",
       "    .dataframe tbody tr th {\n",
       "        vertical-align: top;\n",
       "    }\n",
       "\n",
       "    .dataframe thead th {\n",
       "        text-align: right;\n",
       "    }\n",
       "</style>\n",
       "<table border=\"1\" class=\"dataframe\">\n",
       "  <thead>\n",
       "    <tr style=\"text-align: right;\">\n",
       "      <th></th>\n",
       "      <th>Income</th>\n",
       "      <th>Kidhome</th>\n",
       "      <th>Teenhome</th>\n",
       "      <th>Recency</th>\n",
       "      <th>MntWines</th>\n",
       "      <th>MntFruits</th>\n",
       "      <th>MntMeatProducts</th>\n",
       "      <th>MntFishProducts</th>\n",
       "      <th>MntSweetProducts</th>\n",
       "      <th>MntGoldProds</th>\n",
       "      <th>NumDealsPurchases</th>\n",
       "      <th>NumWebPurchases</th>\n",
       "      <th>NumCatalogPurchases</th>\n",
       "      <th>NumStorePurchases</th>\n",
       "      <th>NumWebVisitsMonth</th>\n",
       "      <th>AcceptedCmp3</th>\n",
       "      <th>AcceptedCmp4</th>\n",
       "      <th>AcceptedCmp5</th>\n",
       "      <th>AcceptedCmp1</th>\n",
       "      <th>AcceptedCmp2</th>\n",
       "      <th>Complain</th>\n",
       "      <th>Z_CostContact</th>\n",
       "      <th>Z_Revenue</th>\n",
       "      <th>Response</th>\n",
       "      <th>Age</th>\n",
       "      <th>Customer_Days</th>\n",
       "      <th>marital_Divorced</th>\n",
       "      <th>marital_Married</th>\n",
       "      <th>marital_Single</th>\n",
       "      <th>marital_Together</th>\n",
       "      <th>marital_Widow</th>\n",
       "      <th>education_2n Cycle</th>\n",
       "      <th>education_Basic</th>\n",
       "      <th>education_Graduation</th>\n",
       "      <th>education_Master</th>\n",
       "      <th>education_PhD</th>\n",
       "      <th>MntTotal</th>\n",
       "      <th>MntRegularProds</th>\n",
       "      <th>AcceptedCmpOverall</th>\n",
       "      <th>Total Childern</th>\n",
       "      <th>Education_Status</th>\n",
       "      <th>Accepted_Camapigns</th>\n",
       "      <th>Age_Group</th>\n",
       "      <th>Marital_Status</th>\n",
       "      <th>Marital_Status_str</th>\n",
       "    </tr>\n",
       "  </thead>\n",
       "  <tbody>\n",
       "    <tr>\n",
       "      <th>0</th>\n",
       "      <td>58138.0</td>\n",
       "      <td>0</td>\n",
       "      <td>0</td>\n",
       "      <td>58</td>\n",
       "      <td>635</td>\n",
       "      <td>88</td>\n",
       "      <td>546</td>\n",
       "      <td>172</td>\n",
       "      <td>88</td>\n",
       "      <td>88</td>\n",
       "      <td>3</td>\n",
       "      <td>8</td>\n",
       "      <td>10</td>\n",
       "      <td>4</td>\n",
       "      <td>7</td>\n",
       "      <td>0</td>\n",
       "      <td>0</td>\n",
       "      <td>0</td>\n",
       "      <td>0</td>\n",
       "      <td>0</td>\n",
       "      <td>0</td>\n",
       "      <td>3</td>\n",
       "      <td>11</td>\n",
       "      <td>1</td>\n",
       "      <td>63</td>\n",
       "      <td>2822</td>\n",
       "      <td>0</td>\n",
       "      <td>0</td>\n",
       "      <td>3</td>\n",
       "      <td>0</td>\n",
       "      <td>0</td>\n",
       "      <td>0</td>\n",
       "      <td>0</td>\n",
       "      <td>3</td>\n",
       "      <td>0</td>\n",
       "      <td>0</td>\n",
       "      <td>1529</td>\n",
       "      <td>1441</td>\n",
       "      <td>0</td>\n",
       "      <td>0</td>\n",
       "      <td>3</td>\n",
       "      <td>1</td>\n",
       "      <td>61-70</td>\n",
       "      <td>3</td>\n",
       "      <td>Single</td>\n",
       "    </tr>\n",
       "    <tr>\n",
       "      <th>8</th>\n",
       "      <td>30351.0</td>\n",
       "      <td>1</td>\n",
       "      <td>0</td>\n",
       "      <td>19</td>\n",
       "      <td>14</td>\n",
       "      <td>0</td>\n",
       "      <td>24</td>\n",
       "      <td>3</td>\n",
       "      <td>3</td>\n",
       "      <td>2</td>\n",
       "      <td>1</td>\n",
       "      <td>3</td>\n",
       "      <td>0</td>\n",
       "      <td>2</td>\n",
       "      <td>9</td>\n",
       "      <td>0</td>\n",
       "      <td>0</td>\n",
       "      <td>0</td>\n",
       "      <td>0</td>\n",
       "      <td>0</td>\n",
       "      <td>0</td>\n",
       "      <td>3</td>\n",
       "      <td>11</td>\n",
       "      <td>1</td>\n",
       "      <td>46</td>\n",
       "      <td>2547</td>\n",
       "      <td>0</td>\n",
       "      <td>0</td>\n",
       "      <td>0</td>\n",
       "      <td>2</td>\n",
       "      <td>0</td>\n",
       "      <td>0</td>\n",
       "      <td>0</td>\n",
       "      <td>0</td>\n",
       "      <td>0</td>\n",
       "      <td>5</td>\n",
       "      <td>44</td>\n",
       "      <td>42</td>\n",
       "      <td>0</td>\n",
       "      <td>1</td>\n",
       "      <td>5</td>\n",
       "      <td>1</td>\n",
       "      <td>41-50</td>\n",
       "      <td>2</td>\n",
       "      <td>Together</td>\n",
       "    </tr>\n",
       "    <tr>\n",
       "      <th>9</th>\n",
       "      <td>5648.0</td>\n",
       "      <td>1</td>\n",
       "      <td>1</td>\n",
       "      <td>68</td>\n",
       "      <td>28</td>\n",
       "      <td>0</td>\n",
       "      <td>6</td>\n",
       "      <td>1</td>\n",
       "      <td>1</td>\n",
       "      <td>13</td>\n",
       "      <td>1</td>\n",
       "      <td>1</td>\n",
       "      <td>0</td>\n",
       "      <td>0</td>\n",
       "      <td>20</td>\n",
       "      <td>1</td>\n",
       "      <td>0</td>\n",
       "      <td>0</td>\n",
       "      <td>0</td>\n",
       "      <td>0</td>\n",
       "      <td>0</td>\n",
       "      <td>3</td>\n",
       "      <td>11</td>\n",
       "      <td>0</td>\n",
       "      <td>70</td>\n",
       "      <td>2267</td>\n",
       "      <td>0</td>\n",
       "      <td>0</td>\n",
       "      <td>0</td>\n",
       "      <td>2</td>\n",
       "      <td>0</td>\n",
       "      <td>0</td>\n",
       "      <td>0</td>\n",
       "      <td>0</td>\n",
       "      <td>0</td>\n",
       "      <td>5</td>\n",
       "      <td>36</td>\n",
       "      <td>23</td>\n",
       "      <td>1</td>\n",
       "      <td>2</td>\n",
       "      <td>5</td>\n",
       "      <td>1</td>\n",
       "      <td>61-70</td>\n",
       "      <td>2</td>\n",
       "      <td>Together</td>\n",
       "    </tr>\n",
       "    <tr>\n",
       "      <th>14</th>\n",
       "      <td>82800.0</td>\n",
       "      <td>0</td>\n",
       "      <td>0</td>\n",
       "      <td>23</td>\n",
       "      <td>1006</td>\n",
       "      <td>22</td>\n",
       "      <td>115</td>\n",
       "      <td>59</td>\n",
       "      <td>68</td>\n",
       "      <td>45</td>\n",
       "      <td>1</td>\n",
       "      <td>7</td>\n",
       "      <td>6</td>\n",
       "      <td>12</td>\n",
       "      <td>3</td>\n",
       "      <td>0</td>\n",
       "      <td>0</td>\n",
       "      <td>1</td>\n",
       "      <td>1</td>\n",
       "      <td>0</td>\n",
       "      <td>0</td>\n",
       "      <td>3</td>\n",
       "      <td>11</td>\n",
       "      <td>1</td>\n",
       "      <td>74</td>\n",
       "      <td>2741</td>\n",
       "      <td>0</td>\n",
       "      <td>0</td>\n",
       "      <td>3</td>\n",
       "      <td>0</td>\n",
       "      <td>0</td>\n",
       "      <td>0</td>\n",
       "      <td>0</td>\n",
       "      <td>0</td>\n",
       "      <td>0</td>\n",
       "      <td>5</td>\n",
       "      <td>1270</td>\n",
       "      <td>1225</td>\n",
       "      <td>2</td>\n",
       "      <td>0</td>\n",
       "      <td>5</td>\n",
       "      <td>1</td>\n",
       "      <td>71-85</td>\n",
       "      <td>3</td>\n",
       "      <td>Single</td>\n",
       "    </tr>\n",
       "    <tr>\n",
       "      <th>17</th>\n",
       "      <td>76995.0</td>\n",
       "      <td>0</td>\n",
       "      <td>1</td>\n",
       "      <td>91</td>\n",
       "      <td>1012</td>\n",
       "      <td>80</td>\n",
       "      <td>498</td>\n",
       "      <td>0</td>\n",
       "      <td>16</td>\n",
       "      <td>176</td>\n",
       "      <td>2</td>\n",
       "      <td>11</td>\n",
       "      <td>4</td>\n",
       "      <td>9</td>\n",
       "      <td>5</td>\n",
       "      <td>0</td>\n",
       "      <td>0</td>\n",
       "      <td>0</td>\n",
       "      <td>1</td>\n",
       "      <td>0</td>\n",
       "      <td>0</td>\n",
       "      <td>3</td>\n",
       "      <td>11</td>\n",
       "      <td>0</td>\n",
       "      <td>71</td>\n",
       "      <td>2617</td>\n",
       "      <td>0</td>\n",
       "      <td>4</td>\n",
       "      <td>0</td>\n",
       "      <td>0</td>\n",
       "      <td>0</td>\n",
       "      <td>0</td>\n",
       "      <td>0</td>\n",
       "      <td>0</td>\n",
       "      <td>4</td>\n",
       "      <td>0</td>\n",
       "      <td>1606</td>\n",
       "      <td>1430</td>\n",
       "      <td>1</td>\n",
       "      <td>1</td>\n",
       "      <td>4</td>\n",
       "      <td>1</td>\n",
       "      <td>71-85</td>\n",
       "      <td>4</td>\n",
       "      <td>Married</td>\n",
       "    </tr>\n",
       "  </tbody>\n",
       "</table>\n",
       "</div>"
      ],
      "text/plain": [
       "     Income  Kidhome  Teenhome  Recency  MntWines  MntFruits  MntMeatProducts  \\\n",
       "0   58138.0        0         0       58       635         88              546   \n",
       "8   30351.0        1         0       19        14          0               24   \n",
       "9    5648.0        1         1       68        28          0                6   \n",
       "14  82800.0        0         0       23      1006         22              115   \n",
       "17  76995.0        0         1       91      1012         80              498   \n",
       "\n",
       "    MntFishProducts  MntSweetProducts  MntGoldProds  NumDealsPurchases  \\\n",
       "0               172                88            88                  3   \n",
       "8                 3                 3             2                  1   \n",
       "9                 1                 1            13                  1   \n",
       "14               59                68            45                  1   \n",
       "17                0                16           176                  2   \n",
       "\n",
       "    NumWebPurchases  NumCatalogPurchases  NumStorePurchases  \\\n",
       "0                 8                   10                  4   \n",
       "8                 3                    0                  2   \n",
       "9                 1                    0                  0   \n",
       "14                7                    6                 12   \n",
       "17               11                    4                  9   \n",
       "\n",
       "    NumWebVisitsMonth  AcceptedCmp3  AcceptedCmp4  AcceptedCmp5  AcceptedCmp1  \\\n",
       "0                   7             0             0             0             0   \n",
       "8                   9             0             0             0             0   \n",
       "9                  20             1             0             0             0   \n",
       "14                  3             0             0             1             1   \n",
       "17                  5             0             0             0             1   \n",
       "\n",
       "    AcceptedCmp2  Complain  Z_CostContact  Z_Revenue  Response  Age  \\\n",
       "0              0         0              3         11         1   63   \n",
       "8              0         0              3         11         1   46   \n",
       "9              0         0              3         11         0   70   \n",
       "14             0         0              3         11         1   74   \n",
       "17             0         0              3         11         0   71   \n",
       "\n",
       "    Customer_Days  marital_Divorced  marital_Married  marital_Single  \\\n",
       "0            2822                 0                0               3   \n",
       "8            2547                 0                0               0   \n",
       "9            2267                 0                0               0   \n",
       "14           2741                 0                0               3   \n",
       "17           2617                 0                4               0   \n",
       "\n",
       "    marital_Together  marital_Widow  education_2n Cycle  education_Basic  \\\n",
       "0                  0              0                   0                0   \n",
       "8                  2              0                   0                0   \n",
       "9                  2              0                   0                0   \n",
       "14                 0              0                   0                0   \n",
       "17                 0              0                   0                0   \n",
       "\n",
       "    education_Graduation  education_Master  education_PhD  MntTotal  \\\n",
       "0                      3                 0              0      1529   \n",
       "8                      0                 0              5        44   \n",
       "9                      0                 0              5        36   \n",
       "14                     0                 0              5      1270   \n",
       "17                     0                 4              0      1606   \n",
       "\n",
       "    MntRegularProds  AcceptedCmpOverall  Total Childern  Education_Status  \\\n",
       "0              1441                   0               0                 3   \n",
       "8                42                   0               1                 5   \n",
       "9                23                   1               2                 5   \n",
       "14             1225                   2               0                 5   \n",
       "17             1430                   1               1                 4   \n",
       "\n",
       "    Accepted_Camapigns Age_Group  Marital_Status Marital_Status_str  \n",
       "0                    1     61-70               3             Single  \n",
       "8                    1     41-50               2           Together  \n",
       "9                    1     61-70               2           Together  \n",
       "14                   1     71-85               3             Single  \n",
       "17                   1     71-85               4            Married  "
      ]
     },
     "execution_count": 186,
     "metadata": {},
     "output_type": "execute_result"
    }
   ],
   "source": [
    "food[food['Accepted_Camapigns']!=0].head()"
   ]
  },
  {
   "cell_type": "code",
   "execution_count": 187,
   "id": "031e0cf4",
   "metadata": {},
   "outputs": [],
   "source": [
    "all_correlations=food.corr(method='pearson')\n",
    "all_correlations=all_correlations[(all_correlations>0.3)&(all_correlations<1)]"
   ]
  },
  {
   "cell_type": "code",
   "execution_count": 188,
   "id": "8507d0da",
   "metadata": {},
   "outputs": [
    {
     "data": {
      "text/plain": [
       "Income                       NaN\n",
       "Kidhome                      NaN\n",
       "Teenhome                     NaN\n",
       "Recency                      NaN\n",
       "MntWines                0.420524\n",
       "MntFruits                    NaN\n",
       "MntMeatProducts         0.306944\n",
       "MntFishProducts              NaN\n",
       "MntSweetProducts             NaN\n",
       "MntGoldProds                 NaN\n",
       "NumDealsPurchases            NaN\n",
       "NumWebPurchases              NaN\n",
       "NumCatalogPurchases     0.326084\n",
       "NumStorePurchases            NaN\n",
       "NumWebVisitsMonth            NaN\n",
       "AcceptedCmp3            0.459984\n",
       "AcceptedCmp4            0.461506\n",
       "AcceptedCmp5            0.456930\n",
       "AcceptedCmp1            0.427141\n",
       "AcceptedCmp2                 NaN\n",
       "Complain                     NaN\n",
       "Z_CostContact                NaN\n",
       "Z_Revenue                    NaN\n",
       "Response                0.686667\n",
       "Age                          NaN\n",
       "Customer_Days                NaN\n",
       "marital_Divorced             NaN\n",
       "marital_Married              NaN\n",
       "marital_Single               NaN\n",
       "marital_Together             NaN\n",
       "marital_Widow                NaN\n",
       "education_2n Cycle           NaN\n",
       "education_Basic              NaN\n",
       "education_Graduation         NaN\n",
       "education_Master             NaN\n",
       "education_PhD                NaN\n",
       "MntTotal                0.398858\n",
       "MntRegularProds         0.396973\n",
       "AcceptedCmpOverall      0.716343\n",
       "Total Childern               NaN\n",
       "Education_Status             NaN\n",
       "Accepted_Camapigns           NaN\n",
       "Marital_Status               NaN\n",
       "Name: Accepted_Camapigns, dtype: float64"
      ]
     },
     "execution_count": 188,
     "metadata": {},
     "output_type": "execute_result"
    }
   ],
   "source": [
    "all_correlations['Accepted_Camapigns']"
   ]
  },
  {
   "cell_type": "markdown",
   "id": "60357ccb",
   "metadata": {},
   "source": [
    "## Exploratory Data Analysis"
   ]
  },
  {
   "cell_type": "code",
   "execution_count": 189,
   "id": "af8a7681",
   "metadata": {},
   "outputs": [],
   "source": [
    "# age range created\n",
    "\n",
    "age_range=[(23,30),(31,40),(41,50),(51,60),(61,70),(71,85)]\n",
    "\n",
    "def assign_age_group(Age):\n",
    "    for age_group in age_range:\n",
    "        if age_group[0] <= Age <= age_group[1]:\n",
    "            return f'{age_group[0]}-{age_group[1]}'\n",
    "    return(\"Unkown\")\n",
    "\n",
    "food['Age_Group']=food['Age'].apply(assign_age_group)"
   ]
  },
  {
   "cell_type": "code",
   "execution_count": 190,
   "id": "d94c582c",
   "metadata": {},
   "outputs": [
    {
     "data": {
      "text/html": [
       "<div>\n",
       "<style scoped>\n",
       "    .dataframe tbody tr th:only-of-type {\n",
       "        vertical-align: middle;\n",
       "    }\n",
       "\n",
       "    .dataframe tbody tr th {\n",
       "        vertical-align: top;\n",
       "    }\n",
       "\n",
       "    .dataframe thead th {\n",
       "        text-align: right;\n",
       "    }\n",
       "</style>\n",
       "<table border=\"1\" class=\"dataframe\">\n",
       "  <thead>\n",
       "    <tr style=\"text-align: right;\">\n",
       "      <th></th>\n",
       "      <th>Age</th>\n",
       "      <th>Age_Group</th>\n",
       "    </tr>\n",
       "  </thead>\n",
       "  <tbody>\n",
       "    <tr>\n",
       "      <th>0</th>\n",
       "      <td>63</td>\n",
       "      <td>61-70</td>\n",
       "    </tr>\n",
       "    <tr>\n",
       "      <th>1</th>\n",
       "      <td>66</td>\n",
       "      <td>61-70</td>\n",
       "    </tr>\n",
       "    <tr>\n",
       "      <th>2</th>\n",
       "      <td>55</td>\n",
       "      <td>51-60</td>\n",
       "    </tr>\n",
       "    <tr>\n",
       "      <th>3</th>\n",
       "      <td>36</td>\n",
       "      <td>31-40</td>\n",
       "    </tr>\n",
       "    <tr>\n",
       "      <th>4</th>\n",
       "      <td>39</td>\n",
       "      <td>31-40</td>\n",
       "    </tr>\n",
       "  </tbody>\n",
       "</table>\n",
       "</div>"
      ],
      "text/plain": [
       "   Age Age_Group\n",
       "0   63     61-70\n",
       "1   66     61-70\n",
       "2   55     51-60\n",
       "3   36     31-40\n",
       "4   39     31-40"
      ]
     },
     "execution_count": 190,
     "metadata": {},
     "output_type": "execute_result"
    }
   ],
   "source": [
    "food[['Age','Age_Group']].head()"
   ]
  },
  {
   "cell_type": "code",
   "execution_count": 191,
   "id": "d80a4c64",
   "metadata": {},
   "outputs": [],
   "source": [
    "import seaborn as sns"
   ]
  },
  {
   "cell_type": "code",
   "execution_count": 192,
   "id": "b684038f",
   "metadata": {},
   "outputs": [
    {
     "data": {
      "text/plain": [
       "<AxesSubplot:xlabel='Age_Group', ylabel='Accepted_Camapigns'>"
      ]
     },
     "execution_count": 192,
     "metadata": {},
     "output_type": "execute_result"
    },
    {
     "data": {
      "image/png": "[encoded data removed]",
      "text/plain": [
       "<Figure size 432x288 with 1 Axes>"
      ]
     },
     "metadata": {
      "needs_background": "light"
     },
     "output_type": "display_data"
    }
   ],
   "source": [
    "age_order=['23-30','31-40','41-50','51-60','61-70','71-85']\n",
    "\n",
    "sns.pointplot(data=food, x='Age_Group', y='Accepted_Camapigns',order=age_order)"
   ]
  },
  {
   "cell_type": "code",
   "execution_count": 193,
   "id": "654d8070",
   "metadata": {},
   "outputs": [
    {
     "data": {
      "text/plain": [
       "41-50    727\n",
       "51-60    502\n",
       "61-70    453\n",
       "31-40    357\n",
       "71-85    105\n",
       "23-30     61\n",
       "Name: Age_Group, dtype: int64"
      ]
     },
     "execution_count": 193,
     "metadata": {},
     "output_type": "execute_result"
    }
   ],
   "source": [
    "counts = food['Age_Group'].value_counts()\n",
    "\n",
    "counts"
   ]
  },
  {
   "cell_type": "code",
   "execution_count": 194,
   "id": "837f02dd",
   "metadata": {},
   "outputs": [],
   "source": [
    "percentage=counts/food.shape[0] \n",
    "\n",
    "#food.shape means return all the rows and column, \n",
    "#Indexes [0]- means rows axis indexes: [1] means column axis indexes\n",
    "#since we have said [0] it means we want to return all rows as we are calling row index"
   ]
  },
  {
   "cell_type": "code",
   "execution_count": 195,
   "id": "89de204b",
   "metadata": {},
   "outputs": [],
   "source": [
    "percent_food=percentage.reset_index()"
   ]
  },
  {
   "cell_type": "code",
   "execution_count": 196,
   "id": "0d449659",
   "metadata": {},
   "outputs": [],
   "source": [
    "percent_food.columns=['Age_Group','percentage']"
   ]
  },
  {
   "cell_type": "code",
   "execution_count": 197,
   "id": "f468060d",
   "metadata": {},
   "outputs": [
    {
     "data": {
      "text/html": [
       "<div>\n",
       "<style scoped>\n",
       "    .dataframe tbody tr th:only-of-type {\n",
       "        vertical-align: middle;\n",
       "    }\n",
       "\n",
       "    .dataframe tbody tr th {\n",
       "        vertical-align: top;\n",
       "    }\n",
       "\n",
       "    .dataframe thead th {\n",
       "        text-align: right;\n",
       "    }\n",
       "</style>\n",
       "<table border=\"1\" class=\"dataframe\">\n",
       "  <thead>\n",
       "    <tr style=\"text-align: right;\">\n",
       "      <th></th>\n",
       "      <th>Age_Group</th>\n",
       "      <th>percentage</th>\n",
       "    </tr>\n",
       "  </thead>\n",
       "  <tbody>\n",
       "    <tr>\n",
       "      <th>5</th>\n",
       "      <td>23-30</td>\n",
       "      <td>0.027664</td>\n",
       "    </tr>\n",
       "    <tr>\n",
       "      <th>3</th>\n",
       "      <td>31-40</td>\n",
       "      <td>0.161905</td>\n",
       "    </tr>\n",
       "    <tr>\n",
       "      <th>0</th>\n",
       "      <td>41-50</td>\n",
       "      <td>0.329705</td>\n",
       "    </tr>\n",
       "    <tr>\n",
       "      <th>1</th>\n",
       "      <td>51-60</td>\n",
       "      <td>0.227664</td>\n",
       "    </tr>\n",
       "    <tr>\n",
       "      <th>2</th>\n",
       "      <td>61-70</td>\n",
       "      <td>0.205442</td>\n",
       "    </tr>\n",
       "    <tr>\n",
       "      <th>4</th>\n",
       "      <td>71-85</td>\n",
       "      <td>0.047619</td>\n",
       "    </tr>\n",
       "  </tbody>\n",
       "</table>\n",
       "</div>"
      ],
      "text/plain": [
       "  Age_Group  percentage\n",
       "5     23-30    0.027664\n",
       "3     31-40    0.161905\n",
       "0     41-50    0.329705\n",
       "1     51-60    0.227664\n",
       "2     61-70    0.205442\n",
       "4     71-85    0.047619"
      ]
     },
     "execution_count": 197,
     "metadata": {},
     "output_type": "execute_result"
    }
   ],
   "source": [
    "percent_food.sort_values('Age_Group')"
   ]
  },
  {
   "cell_type": "code",
   "execution_count": 198,
   "id": "ba08e175",
   "metadata": {},
   "outputs": [
    {
     "data": {
      "image/png": "[encoded data removed]",
      "text/plain": [
       "<Figure size 432x288 with 1 Axes>"
      ]
     },
     "metadata": {
      "needs_background": "light"
     },
     "output_type": "display_data"
    }
   ],
   "source": [
    "import matplotlib.pyplot as plt\n",
    "sns.barplot(x='Age_Group',y='percentage',data=percent_food,order=age_order)\n",
    "plt.title('Percentage of Accepted Campaigns per Age Group')\n",
    "plt.show()"
   ]
  },
  {
   "cell_type": "code",
   "execution_count": 199,
   "id": "81d31782",
   "metadata": {},
   "outputs": [],
   "source": [
    "# Age segmentation: Core audience for accepting campign right now is 31-70 \n",
    "\n",
    "# it looks like age group 23-30 and 71-85 reprensts a small faction of perecentage who are participating but their acceptance rate is high"
   ]
  },
  {
   "cell_type": "code",
   "execution_count": 200,
   "id": "6dd7c8de",
   "metadata": {},
   "outputs": [],
   "source": [
    "## comparing amount spent with age group"
   ]
  },
  {
   "cell_type": "code",
   "execution_count": 201,
   "id": "9831e6a7",
   "metadata": {},
   "outputs": [
    {
     "data": {
      "image/png": "[encoded data removed]",
      "text/plain": [
       "<Figure size 432x288 with 1 Axes>"
      ]
     },
     "metadata": {
      "needs_background": "light"
     },
     "output_type": "display_data"
    }
   ],
   "source": [
    "grouped_food= food.groupby('Age_Group')['MntTotal'].sum().reset_index()\n",
    "\n",
    "sns.barplot(x='Age_Group',y='MntTotal',data=grouped_food,order=age_order)\n",
    "plt.title('Amount spent per Age Group')\n",
    "plt.show()"
   ]
  },
  {
   "cell_type": "code",
   "execution_count": 202,
   "id": "8471d846",
   "metadata": {},
   "outputs": [
    {
     "data": {
      "image/png": "[encoded data removed]",
      "text/plain": [
       "<Figure size 432x288 with 1 Axes>"
      ]
     },
     "metadata": {
      "needs_background": "light"
     },
     "output_type": "display_data"
    }
   ],
   "source": [
    "acct_camp= food[food['Accepted_Camapigns']!=0]\n",
    "\n",
    "grouped_food= acct_camp.groupby('Age_Group')['MntTotal'].sum().reset_index()\n",
    "\n",
    "sns.barplot(x='Age_Group',y='MntTotal',data=grouped_food,order=age_order)\n",
    "plt.title('Amount spent per Age Group')\n",
    "plt.show()"
   ]
  },
  {
   "cell_type": "code",
   "execution_count": 203,
   "id": "706a1b69",
   "metadata": {},
   "outputs": [],
   "source": [
    "# People who accepted the campaigns within age group of 31-70 are spending more money "
   ]
  },
  {
   "cell_type": "code",
   "execution_count": 204,
   "id": "eebdd002",
   "metadata": {},
   "outputs": [],
   "source": [
    "# Age segmentation: Core audience for accepting campign right now is 31-70 \n",
    "\n",
    "# it looks like age group 23-30 and 71-85 reprensts a small faction of perecentage who are participating but their acceptance rate is high"
   ]
  },
  {
   "cell_type": "code",
   "execution_count": 205,
   "id": "7195d761",
   "metadata": {},
   "outputs": [
    {
     "data": {
      "text/plain": [
       "NumWebPurchases         9042\n",
       "NumCatalogPurchases     5833\n",
       "NumStorePurchases      12841\n",
       "dtype: int64"
      ]
     },
     "execution_count": 205,
     "metadata": {},
     "output_type": "execute_result"
    }
   ],
   "source": [
    "food[['NumWebPurchases','NumCatalogPurchases','NumStorePurchases']].sum()"
   ]
  },
  {
   "cell_type": "code",
   "execution_count": 206,
   "id": "2c17bf63",
   "metadata": {},
   "outputs": [],
   "source": [
    "#created data frame of the above extracted column\n",
    "\n",
    "sum_food=pd.DataFrame(food[['NumWebPurchases','NumCatalogPurchases','NumStorePurchases']].sum(), columns=['Sum'])"
   ]
  },
  {
   "cell_type": "code",
   "execution_count": 207,
   "id": "76380bb0",
   "metadata": {},
   "outputs": [
    {
     "data": {
      "text/html": [
       "<div>\n",
       "<style scoped>\n",
       "    .dataframe tbody tr th:only-of-type {\n",
       "        vertical-align: middle;\n",
       "    }\n",
       "\n",
       "    .dataframe tbody tr th {\n",
       "        vertical-align: top;\n",
       "    }\n",
       "\n",
       "    .dataframe thead th {\n",
       "        text-align: right;\n",
       "    }\n",
       "</style>\n",
       "<table border=\"1\" class=\"dataframe\">\n",
       "  <thead>\n",
       "    <tr style=\"text-align: right;\">\n",
       "      <th></th>\n",
       "      <th>index</th>\n",
       "      <th>Sum</th>\n",
       "    </tr>\n",
       "  </thead>\n",
       "  <tbody>\n",
       "    <tr>\n",
       "      <th>0</th>\n",
       "      <td>NumWebPurchases</td>\n",
       "      <td>9042</td>\n",
       "    </tr>\n",
       "    <tr>\n",
       "      <th>1</th>\n",
       "      <td>NumCatalogPurchases</td>\n",
       "      <td>5833</td>\n",
       "    </tr>\n",
       "    <tr>\n",
       "      <th>2</th>\n",
       "      <td>NumStorePurchases</td>\n",
       "      <td>12841</td>\n",
       "    </tr>\n",
       "  </tbody>\n",
       "</table>\n",
       "</div>"
      ],
      "text/plain": [
       "                 index    Sum\n",
       "0      NumWebPurchases   9042\n",
       "1  NumCatalogPurchases   5833\n",
       "2    NumStorePurchases  12841"
      ]
     },
     "execution_count": 207,
     "metadata": {},
     "output_type": "execute_result"
    }
   ],
   "source": [
    "sum_food=sum_food.reset_index()\n",
    "sum_food"
   ]
  },
  {
   "cell_type": "code",
   "execution_count": 208,
   "id": "8deb9648",
   "metadata": {},
   "outputs": [],
   "source": [
    "sum_food.rename(columns={'index':'Type_of_purchase'},inplace=True)"
   ]
  },
  {
   "cell_type": "code",
   "execution_count": 209,
   "id": "b6448539",
   "metadata": {},
   "outputs": [
    {
     "data": {
      "text/html": [
       "<div>\n",
       "<style scoped>\n",
       "    .dataframe tbody tr th:only-of-type {\n",
       "        vertical-align: middle;\n",
       "    }\n",
       "\n",
       "    .dataframe tbody tr th {\n",
       "        vertical-align: top;\n",
       "    }\n",
       "\n",
       "    .dataframe thead th {\n",
       "        text-align: right;\n",
       "    }\n",
       "</style>\n",
       "<table border=\"1\" class=\"dataframe\">\n",
       "  <thead>\n",
       "    <tr style=\"text-align: right;\">\n",
       "      <th></th>\n",
       "      <th>Type_of_purchase</th>\n",
       "      <th>Sum</th>\n",
       "    </tr>\n",
       "  </thead>\n",
       "  <tbody>\n",
       "    <tr>\n",
       "      <th>0</th>\n",
       "      <td>NumWebPurchases</td>\n",
       "      <td>9042</td>\n",
       "    </tr>\n",
       "    <tr>\n",
       "      <th>1</th>\n",
       "      <td>NumCatalogPurchases</td>\n",
       "      <td>5833</td>\n",
       "    </tr>\n",
       "    <tr>\n",
       "      <th>2</th>\n",
       "      <td>NumStorePurchases</td>\n",
       "      <td>12841</td>\n",
       "    </tr>\n",
       "  </tbody>\n",
       "</table>\n",
       "</div>"
      ],
      "text/plain": [
       "      Type_of_purchase    Sum\n",
       "0      NumWebPurchases   9042\n",
       "1  NumCatalogPurchases   5833\n",
       "2    NumStorePurchases  12841"
      ]
     },
     "execution_count": 209,
     "metadata": {},
     "output_type": "execute_result"
    }
   ],
   "source": [
    "sum_food"
   ]
  },
  {
   "cell_type": "code",
   "execution_count": 210,
   "id": "24f8a59f",
   "metadata": {},
   "outputs": [
    {
     "data": {
      "text/plain": [
       "<AxesSubplot:xlabel='Type_of_purchase', ylabel='Sum'>"
      ]
     },
     "execution_count": 210,
     "metadata": {},
     "output_type": "execute_result"
    },
    {
     "data": {
      "image/png": "[encoded data removed]",
      "text/plain": [
       "<Figure size 432x288 with 1 Axes>"
      ]
     },
     "metadata": {
      "needs_background": "light"
     },
     "output_type": "display_data"
    }
   ],
   "source": [
    "sns.barplot(x='Type_of_purchase',y='Sum',data=sum_food)"
   ]
  },
  {
   "cell_type": "code",
   "execution_count": 252,
   "id": "a360e83a",
   "metadata": {},
   "outputs": [
    {
     "data": {
      "text/plain": [
       "<AxesSubplot:xlabel='Type_of_purchase', ylabel='Sum'>"
      ]
     },
     "execution_count": 252,
     "metadata": {},
     "output_type": "execute_result"
    },
    {
     "data": {
      "image/png": "[encoded data removed]",
      "text/plain": [
       "<Figure size 432x288 with 1 Axes>"
      ]
     },
     "metadata": {
      "needs_background": "light"
     },
     "output_type": "display_data"
    }
   ],
   "source": [
    "#seeing with \n",
    "acct_camp= food[food['Accepted_Camapigns']!=0]\n",
    "\n",
    "sum_food=pd.DataFrame(acct_camp[['NumWebPurchases','NumCatalogPurchases','NumStorePurchases']].sum(), columns=['Sum'])\n",
    "sum_food=sum_food.reset_index()\n",
    "sum_food.rename(columns={'index':'Type_of_purchase'},inplace=True)\n",
    "sns.barplot(x='Type_of_purchase',y='Sum',data=sum_food)"
   ]
  },
  {
   "cell_type": "code",
   "execution_count": 215,
   "id": "7ebadde8",
   "metadata": {},
   "outputs": [],
   "source": [
    "# 2 directions: Boost up the higher percentage catalog customer. OR FOCUS ON INSTORE /WEB purchases cuz they have more traffic"
   ]
  },
  {
   "cell_type": "code",
   "execution_count": 216,
   "id": "423e35f0",
   "metadata": {},
   "outputs": [
    {
     "data": {
      "image/png": "[encoded data removed]",
      "text/plain": [
       "<Figure size 432x288 with 1 Axes>"
      ]
     },
     "metadata": {
      "needs_background": "light"
     },
     "output_type": "display_data"
    }
   ],
   "source": [
    "import seaborn as sns\n",
    "import matplotlib.pyplot as plt\n",
    "\n",
    "sns.regplot(x='Total Childern', y='MntTotal', data=food)\n",
    "\n",
    "plt.xlim(-0.1, 3.3) \n",
    "\n",
    "plt.show()"
   ]
  },
  {
   "cell_type": "code",
   "execution_count": 217,
   "id": "fd687a48",
   "metadata": {},
   "outputs": [],
   "source": [
    "#negative correlation: as people with less children spend more money"
   ]
  },
  {
   "cell_type": "code",
   "execution_count": 218,
   "id": "00dfe97a",
   "metadata": {},
   "outputs": [
    {
     "data": {
      "image/png": "[encoded data removed]",
      "text/plain": [
       "<Figure size 432x288 with 1 Axes>"
      ]
     },
     "metadata": {
      "needs_background": "light"
     },
     "output_type": "display_data"
    }
   ],
   "source": [
    "import seaborn as sns\n",
    "import matplotlib.pyplot as plt\n",
    "\n",
    "sns.regplot(x='Total Childern', y='Accepted_Camapigns', data=food)\n",
    "\n",
    "plt.xlim(-0.3, 3.3) \n",
    "\n",
    "plt.show()"
   ]
  },
  {
   "cell_type": "code",
   "execution_count": 219,
   "id": "10aef6f0",
   "metadata": {},
   "outputs": [],
   "source": [
    "#Less kids more likely to accept campaign"
   ]
  },
  {
   "cell_type": "code",
   "execution_count": 220,
   "id": "a66ef7f4",
   "metadata": {},
   "outputs": [],
   "source": [
    "# people with more kids are spending more money and accepting less campaigns at much lower rate"
   ]
  },
  {
   "cell_type": "code",
   "execution_count": 221,
   "id": "b475b820",
   "metadata": {},
   "outputs": [
    {
     "data": {
      "image/png": "[encoded data removed]",
      "text/plain": [
       "<Figure size 432x288 with 1 Axes>"
      ]
     },
     "metadata": {
      "needs_background": "light"
     },
     "output_type": "display_data"
    }
   ],
   "source": [
    "import seaborn as sns\n",
    "import matplotlib.pyplot as plt\n",
    "\n",
    "sns.regplot(x='Education_Status', y='Accepted_Camapigns', data=food)\n",
    "\n",
    "plt.xlim(0.5, 5.5) \n",
    "\n",
    "plt.show()"
   ]
  },
  {
   "cell_type": "code",
   "execution_count": 222,
   "id": "ce0a49f4",
   "metadata": {},
   "outputs": [
    {
     "data": {
      "image/png": "[encoded data removed]",
      "text/plain": [
       "<Figure size 432x288 with 1 Axes>"
      ]
     },
     "metadata": {
      "needs_background": "light"
     },
     "output_type": "display_data"
    }
   ],
   "source": [
    "import seaborn as sns\n",
    "import matplotlib.pyplot as plt\n",
    "\n",
    "sns.regplot(x='Education_Status', y='MntTotal', data=food)\n",
    "\n",
    "plt.xlim(0.5, 5.5) \n",
    "\n",
    "plt.show()"
   ]
  },
  {
   "cell_type": "code",
   "execution_count": 223,
   "id": "a10099fd",
   "metadata": {},
   "outputs": [],
   "source": [
    "#education is not really significant in our segmentation"
   ]
  },
  {
   "cell_type": "code",
   "execution_count": 230,
   "id": "18c22bef",
   "metadata": {},
   "outputs": [
    {
     "data": {
      "text/plain": [
       "<AxesSubplot:xlabel='Marital_Status_str', ylabel='count'>"
      ]
     },
     "execution_count": 230,
     "metadata": {},
     "output_type": "execute_result"
    },
    {
     "data": {
      "image/png": "[encoded data removed]",
      "text/plain": [
       "<Figure size 432x288 with 1 Axes>"
      ]
     },
     "metadata": {
      "needs_background": "light"
     },
     "output_type": "display_data"
    }
   ],
   "source": [
    "sns.countplot(x='Marital_Status_str', data=food)"
   ]
  },
  {
   "cell_type": "code",
   "execution_count": 245,
   "id": "6f138ef5",
   "metadata": {},
   "outputs": [],
   "source": [
    "\n",
    "\n",
    "rel_food= food.groupby('Marital_Status_str')['MntTotal'].sum().reset_index()"
   ]
  },
  {
   "cell_type": "code",
   "execution_count": 246,
   "id": "1d6e0948",
   "metadata": {},
   "outputs": [
    {
     "data": {
      "text/plain": [
       "<AxesSubplot:xlabel='Marital_Status_str', ylabel='MntTotal'>"
      ]
     },
     "execution_count": 246,
     "metadata": {},
     "output_type": "execute_result"
    },
    {
     "data": {
      "image/png": "[encoded data removed]",
      "text/plain": [
       "<Figure size 432x288 with 1 Axes>"
      ]
     },
     "metadata": {
      "needs_background": "light"
     },
     "output_type": "display_data"
    }
   ],
   "source": [
    "sns.barplot(x='Marital_Status_str', y= \"MntTotal\", data=rel_food)"
   ]
  },
  {
   "cell_type": "code",
   "execution_count": 249,
   "id": "4944f877",
   "metadata": {},
   "outputs": [],
   "source": [
    "acct_camp= food[food['Accepted_Camapigns']!=0]\n",
    "\n",
    "\n",
    "rel_food= acct_camp.groupby('Marital_Status_str')['MntTotal'].sum().reset_index()"
   ]
  },
  {
   "cell_type": "code",
   "execution_count": 250,
   "id": "3717ff41",
   "metadata": {},
   "outputs": [
    {
     "data": {
      "text/plain": [
       "<AxesSubplot:xlabel='Marital_Status_str', ylabel='MntTotal'>"
      ]
     },
     "execution_count": 250,
     "metadata": {},
     "output_type": "execute_result"
    },
    {
     "data": {
      "image/png": "[encoded data removed]",
      "text/plain": [
       "<Figure size 432x288 with 1 Axes>"
      ]
     },
     "metadata": {
      "needs_background": "light"
     },
     "output_type": "display_data"
    }
   ],
   "source": [
    "sns.barplot(x='Marital_Status_str', y= \"MntTotal\", data=rel_food)"
   ]
  },
  {
   "cell_type": "code",
   "execution_count": null,
   "id": "f4eae1b5",
   "metadata": {},
   "outputs": [],
   "source": [
    "#Marriage - Married, single and together are spending a lot more than widow and divorced. we should focus more on this segment."
   ]
  },
  {
   "cell_type": "code",
   "execution_count": 254,
   "id": "f6a15b33",
   "metadata": {},
   "outputs": [],
   "source": [
    "total= food['Marital_Status_str'].value_counts()\n",
    "accepted= food[food['Accepted_Camapigns']==1]['Marital_Status_str'].value_counts()"
   ]
  },
  {
   "cell_type": "code",
   "execution_count": 255,
   "id": "6617f70d",
   "metadata": {},
   "outputs": [],
   "source": [
    "percent_marital= accepted/total*100"
   ]
  },
  {
   "cell_type": "code",
   "execution_count": 257,
   "id": "62de2414",
   "metadata": {},
   "outputs": [],
   "source": [
    "pect_food=percent_marital.reset_index()"
   ]
  },
  {
   "cell_type": "code",
   "execution_count": 258,
   "id": "0e855613",
   "metadata": {},
   "outputs": [],
   "source": [
    "pect_food.columns=['Marital_Status','Percentage']"
   ]
  },
  {
   "cell_type": "code",
   "execution_count": 259,
   "id": "1cbe8e7a",
   "metadata": {},
   "outputs": [
    {
     "data": {
      "text/plain": [
       "<AxesSubplot:xlabel='Marital_Status', ylabel='Percentage'>"
      ]
     },
     "execution_count": 259,
     "metadata": {},
     "output_type": "execute_result"
    },
    {
     "data": {
      "image/png": "[encoded data removed]",
      "text/plain": [
       "<Figure size 432x288 with 1 Axes>"
      ]
     },
     "metadata": {
      "needs_background": "light"
     },
     "output_type": "display_data"
    }
   ],
   "source": [
    "sns.barplot(x='Marital_Status', y= 'Percentage', data=pect_food)"
   ]
  },
  {
   "cell_type": "code",
   "execution_count": null,
   "id": "6693e77e",
   "metadata": {},
   "outputs": [],
   "source": []
  },
  {
   "cell_type": "code",
   "execution_count": null,
   "id": "dee7f3eb",
   "metadata": {},
   "outputs": [],
   "source": []
  },
  {
   "cell_type": "markdown",
   "id": "2d6d58b0",
   "metadata": {},
   "source": [
    "# Overall findings:\n",
    "\n",
    "#### 1 Customers aged 30-70 spend the most but are less likely to engage with campaigns, despite their high volume of spending.\n",
    "#### 2 Catalog buyers are more likely to accept campaigns, even though most purchases happen in physical stores.\n",
    "#### 3 Customers with no or fewer children are more likely to accept campaigns and spend more.\n",
    "#### 4 Education has minimal impact on campaign engagement—targeting based on education isn’t necessary.\n",
    "#### 5 Marital status isn’t a strong factor, but married, single, and partnered customers tend to spend more."
   ]
  },
  {
   "cell_type": "markdown",
   "id": "73d1f877",
   "metadata": {},
   "source": [
    "# Recommendation:\n",
    "\n",
    "#### Money making-- Targeting people who are most likely to accept campign and most likey to spend more money \n",
    "Target middle-aged, high-income customers with no children across different platforms. These customers are most likely to accept campaigns and spend more money.\n"
   ]
  },
  {
   "cell_type": "code",
   "execution_count": null,
   "id": "e5b7d7db",
   "metadata": {},
   "outputs": [],
   "source": []
  },
  {
   "cell_type": "code",
   "execution_count": null,
   "id": "ed4f57ef",
   "metadata": {},
   "outputs": [],
   "source": []
  },
  {
   "cell_type": "code",
   "execution_count": null,
   "id": "12eabd97",
   "metadata": {},
   "outputs": [],
   "source": []
  }
 ],
 "metadata": {
  "kernelspec": {
   "display_name": "Python 3",
   "language": "python",
   "name": "python3"
  },
  "language_info": {
   "codemirror_mode": {
    "name": "ipython",
    "version": 3
   },
   "file_extension": ".py",
   "mimetype": "text/x-python",
   "name": "python",
   "nbconvert_exporter": "python",
   "pygments_lexer": "ipython3",
   "version": "3.8.8"
  }
 },
 "nbformat": 4,
 "nbformat_minor": 5
}
